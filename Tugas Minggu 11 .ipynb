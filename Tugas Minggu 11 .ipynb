{
 "cells": [
  {
   "cell_type": "markdown",
   "id": "c6bacd40-6d2b-4bf9-8b20-09bb313649bb",
   "metadata": {
    "jp-MarkdownHeadingCollapsed": true
   },
   "source": [
    "## Minggu 1 - Tipe data & Operator Python"
   ]
  },
  {
   "cell_type": "code",
   "execution_count": 1,
   "id": "ec0d7252-d19b-45db-8132-ce2799615755",
   "metadata": {},
   "outputs": [
    {
     "name": "stdout",
     "output_type": "stream",
     "text": [
      "Hello, World!\n"
     ]
    }
   ],
   "source": [
    "print(\"Hello, World!\")"
   ]
  },
  {
   "cell_type": "code",
   "execution_count": 2,
   "id": "181c0088-1e01-42bd-af01-1d46cd630bfa",
   "metadata": {},
   "outputs": [
    {
     "name": "stdout",
     "output_type": "stream",
     "text": [
      "Hello, World!\n"
     ]
    }
   ],
   "source": [
    "print(f\"Hello, World!\")"
   ]
  },
  {
   "cell_type": "code",
   "execution_count": 1,
   "id": "63c8de6b-d308-457a-a2d7-ca5d5be71e33",
   "metadata": {},
   "outputs": [
    {
     "name": "stdout",
     "output_type": "stream",
     "text": [
      "Komentar ndak mengeluarkan output apapun\n"
     ]
    }
   ],
   "source": [
    "# ini namanya komentar gaes!!!\n",
    "\n",
    "\"\"\"\n",
    "komentar\n",
    "komentar\n",
    "\"\"\"\n",
    "\n",
    "print(\"Komentar ndak mengeluarkan output apapun\")"
   ]
  },
  {
   "cell_type": "code",
   "execution_count": 2,
   "id": "e3aa028b-64d2-4aab-ab6c-5af04bd484ca",
   "metadata": {},
   "outputs": [
    {
     "name": "stdout",
     "output_type": "stream",
     "text": [
      "Nama: Zahid dan Umur: 20\n",
      "Nama: Zahid dan Umur: 20\n",
      "\n",
      "\n",
      "Zahid\n",
      "dan\n",
      "Abdullah\n"
     ]
    }
   ],
   "source": [
    "# Variabel\n",
    "nama = \"Zahid\"\n",
    "umur = 20\n",
    "status_pernikahan = \"Belum Menikah\"\n",
    "statuspernikahan = \"Menikah\"\n",
    "\n",
    "bilangan_bulat = 10\n",
    "bilangan_desimal = 3.14\n",
    "teks = \"Halo, gess!\"\n",
    "banyak_baris = '''Zahid\n",
    "dan\n",
    "Abdullah'''\n",
    "boolean = True\n",
    "\n",
    "print('Nama:', nama, 'dan Umur:', umur)\n",
    "print(f\"Nama: {nama} dan Umur: {umur}\")\n",
    "print('\\n')\n",
    "print(banyak_baris)"
   ]
  },
  {
   "cell_type": "code",
   "execution_count": 9,
   "id": "ec256e9c-dd7f-4931-8f7f-00eec16bc916",
   "metadata": {},
   "outputs": [
    {
     "name": "stdout",
     "output_type": "stream",
     "text": [
      "Nama saya Zaheed dan Umur saya adalah 26 Tahun dan sedang Berkuliah di Universitas Telkom Surabaya\n"
     ]
    }
   ],
   "source": [
    "nama = \"Zaheed\"\n",
    "a = 14; b = 12\n",
    "kesibukan, keterangan = 'Berkuliah','Universitas Telkom Surabaya'\n",
    "print(f\"Nama saya {nama} dan Umur saya adalah {a+b} Tahun dan sedang {kesibukan} di {keterangan}\")"
   ]
  },
  {
   "cell_type": "code",
   "execution_count": 10,
   "id": "eccc29dc-2185-442a-b16b-5f271ce1cf34",
   "metadata": {},
   "outputs": [
    {
     "name": "stdin",
     "output_type": "stream",
     "text": [
      "Masukkan nama Anda:  zahid\n",
      "Berapa harganya?:  5000\n"
     ]
    },
    {
     "name": "stdout",
     "output_type": "stream",
     "text": [
      "\n",
      "\n",
      "Halo, aku zahid dan aku udahhhh makan ayam goreng yang harganya Rp 5000\n"
     ]
    }
   ],
   "source": [
    "nama = input(\"Masukkan nama Anda: \")\n",
    "makan = 'udahhhh'\n",
    "harga = int(input(\"Berapa harganya?: \"))\n",
    "\n",
    "print('\\n')\n",
    "print(\"Halo, aku\", nama, 'dan aku', makan, 'makan ayam goreng yang harganya Rp', harga)"
   ]
  },
  {
   "cell_type": "markdown",
   "id": "690976b9-b536-4a61-8c0e-7a21970ccd92",
   "metadata": {
    "jp-MarkdownHeadingCollapsed": true
   },
   "source": [
    "## Minggu 2 - Ekspresi Persamaan Matematika"
   ]
  },
  {
   "cell_type": "code",
   "execution_count": 11,
   "id": "1fec3047-5cee-4243-83ad-f3194e158e7f",
   "metadata": {},
   "outputs": [
    {
     "name": "stdin",
     "output_type": "stream",
     "text": [
      "Masukkan bilangan pertama:  3\n",
      "Masukkan bilangan kedua:  3\n"
     ]
    },
    {
     "name": "stdout",
     "output_type": "stream",
     "text": [
      "Hasil penjumlahan: 6\n"
     ]
    }
   ],
   "source": [
    "bilangan1 = int(input(\"Masukkan bilangan pertama: \"))\n",
    "bilangan2 = int(input(\"Masukkan bilangan kedua: \"))\n",
    "\n",
    "hasil = bilangan1 + bilangan2\n",
    "\n",
    "print(\"Hasil penjumlahan:\", hasil)"
   ]
  },
  {
   "cell_type": "code",
   "execution_count": 12,
   "id": "ba847616-45dd-4039-bf87-070fb10cc2c4",
   "metadata": {},
   "outputs": [
    {
     "name": "stdin",
     "output_type": "stream",
     "text": [
      "Masukkan bilangan pertama:  3\n",
      "Masukkan bilangan kedua:  2\n"
     ]
    },
    {
     "name": "stdout",
     "output_type": "stream",
     "text": [
      "Hasil perkalian: 6\n"
     ]
    }
   ],
   "source": [
    "bilangan1 = int(input(\"Masukkan bilangan pertama: \"))\n",
    "bilangan2 = int(input(\"Masukkan bilangan kedua: \"))\n",
    "\n",
    "hasil = bilangan1 * bilangan2\n",
    "\n",
    "print(\"Hasil perkalian:\", hasil)"
   ]
  },
  {
   "cell_type": "code",
   "execution_count": 13,
   "id": "ae99d8ba-e239-462f-a8ff-2c0e5230ef8e",
   "metadata": {},
   "outputs": [
    {
     "name": "stdin",
     "output_type": "stream",
     "text": [
      "Masukkan bilangan pertama:  3\n",
      "Masukkan bilangan kedua:  2\n"
     ]
    },
    {
     "name": "stdout",
     "output_type": "stream",
     "text": [
      "Hasil sisa bagi: 1\n"
     ]
    }
   ],
   "source": [
    "bilangan1 = int(input(\"Masukkan bilangan pertama: \"))\n",
    "bilangan2 = int(input(\"Masukkan bilangan kedua: \"))\n",
    "\n",
    "hasil = bilangan1 % bilangan2\n",
    "\n",
    "print(\"Hasil sisa bagi:\", hasil)"
   ]
  },
  {
   "cell_type": "markdown",
   "id": "e813015a-e25e-446c-b11e-0603b0cbb307",
   "metadata": {
    "jp-MarkdownHeadingCollapsed": true
   },
   "source": [
    "## Minggu 3 - Math Library"
   ]
  },
  {
   "cell_type": "code",
   "execution_count": 9,
   "id": "8b1a9dc6-76af-48e2-b810-0061489e825f",
   "metadata": {},
   "outputs": [
    {
     "name": "stdin",
     "output_type": "stream",
     "text": [
      "Nilai A:  2\n",
      "Nilai B:  -4\n",
      "Nilai C:  -6\n"
     ]
    },
    {
     "name": "stdout",
     "output_type": "stream",
     "text": [
      "3.0 -1.0\n"
     ]
    }
   ],
   "source": [
    "import math\n",
    "\n",
    "a = int(input(\"Nilai A: \"))\n",
    "b = int(input(\"Nilai B: \"))\n",
    "c = int(input(\"Nilai C: \"))\n",
    "\n",
    "d = b**2 - 4*a*c\n",
    "\n",
    "xroot1 = (-b + math.sqrt(d)) / (2 * a)\n",
    "xroot2 = (-b - math.sqrt(d)) / (2 * a)\n",
    "\n",
    "\n",
    "print(xroot1, xroot2)"
   ]
  },
  {
   "cell_type": "markdown",
   "id": "20e555ce-b25e-4c63-ab2e-1e4126bb778d",
   "metadata": {
    "jp-MarkdownHeadingCollapsed": true
   },
   "source": [
    "## Minggu 4 - Tugas Operator & If"
   ]
  },
  {
   "cell_type": "code",
   "execution_count": 1,
   "id": "e4333831-bd6d-4b9b-bc47-643678365e95",
   "metadata": {},
   "outputs": [
    {
     "name": "stdin",
     "output_type": "stream",
     "text": [
      "Berapa gaji Budi per jamny?:  75000\n",
      "Berapa jam kerja Budi dalam satu minggu?:  12\n"
     ]
    },
    {
     "name": "stdout",
     "output_type": "stream",
     "text": [
      "Gaji budi selama bekerja 5 minggu adalah 4500000\n",
      "Gaji budi setelah dipotong pajak 14% 3870000.0\n",
      "Jumlah uang yang dikeluarkan budi untuk membeli Pakaian dan Aksesoris adalah: 387000.0\n",
      "Jumlah uang yang dikeluarkan budi untuk membeli alat tulis adalah: 38700.0\n",
      "jumlah uang yang dikeluarkan budi untuk sedekah adalah: 967500.0\n",
      "jumlah uang yang diterima anak yatim adalah: 290250.0\n",
      "jumlah uang yang diterima anak dhuafa adalah: 677250.0\n"
     ]
    }
   ],
   "source": [
    "gaji_h = int(input(\"Berapa gaji Budi per jamny?: \"))\n",
    "jam_kerja = int(input(\"Berapa jam kerja Budi dalam satu minggu?: \"))\n",
    "lama_kerja = 5\n",
    "gaji_budi = gaji_h*jam_kerja*lama_kerja\n",
    "pajak = gaji_budi*0.14\n",
    "gaji_bersih = gaji_budi - pajak\n",
    "print(\"Gaji budi selama bekerja 5 minggu adalah\", gaji_budi)\n",
    "print(\"Gaji budi setelah dipotong pajak 14%\", gaji_bersih)\n",
    "beli_baju= gaji_bersih * 0.1\n",
    "beli_alattulis = gaji_bersih * 0.01\n",
    "sedekah = gaji_bersih * 0.25\n",
    "sedekah_anak_yatim = sedekah*0.30\n",
    "sedekah_anak_dhuafa = sedekah - sedekah_anak_yatim\n",
    "print(\"Jumlah uang yang dikeluarkan budi untuk membeli Pakaian dan Aksesoris adalah:\", beli_baju)\n",
    "print(\"Jumlah uang yang dikeluarkan budi untuk membeli alat tulis adalah:\", beli_alattulis)\n",
    "print(\"jumlah uang yang dikeluarkan budi untuk sedekah adalah:\", sedekah)\n",
    "print(\"jumlah uang yang diterima anak yatim adalah:\", sedekah_anak_yatim)\n",
    "print(\"jumlah uang yang diterima anak dhuafa adalah:\", sedekah_anak_dhuafa)\n"
   ]
  },
  {
   "cell_type": "code",
   "execution_count": 2,
   "id": "cfe19b1b-95e9-48a1-987e-29f385659c76",
   "metadata": {},
   "outputs": [
    {
     "name": "stdin",
     "output_type": "stream",
     "text": [
      "total pembelian:  15000\n"
     ]
    },
    {
     "name": "stdout",
     "output_type": "stream",
     "text": [
      "Diskon yang diterima: Rp 0.00\n",
      "Total belanja setelah diskon: Rp 15000.00\n"
     ]
    }
   ],
   "source": [
    "total_pembelian = float(input(\"total pembelian: \"))\n",
    "if total_pembelian > 1000000:\n",
    "    diskon = total_pembelian * 0.1\n",
    "elif total_pembelian >= 500000:\n",
    "    diskon = total_pembelian * 0.05\n",
    "else:\n",
    "    diskon = 0\n",
    "total_setelah_diskon = total_pembelian - diskon\n",
    "\n",
    "print(f\"Diskon yang diterima: Rp {diskon:.2f}\")\n",
    "print(f\"Total belanja setelah diskon: Rp {total_setelah_diskon:.2f}\")"
   ]
  },
  {
   "cell_type": "markdown",
   "id": "e0091057-b3a1-477b-998c-d54913d3efb2",
   "metadata": {
    "jp-MarkdownHeadingCollapsed": true
   },
   "source": [
    "## Minggu 5 - Range & Looping"
   ]
  },
  {
   "cell_type": "code",
   "execution_count": 3,
   "id": "6e76fdd9-fcb1-4922-bbee-5cc08aa36302",
   "metadata": {},
   "outputs": [
    {
     "name": "stdout",
     "output_type": "stream",
     "text": [
      "Perulangan ke-  0\n",
      "Perulangan ke-  1\n",
      "Perulangan ke-  2\n",
      "Perulangan ke-  3\n",
      "Perulangan ke-  4\n"
     ]
    }
   ],
   "source": [
    "for i in range(5):\n",
    "    print(\"Perulangan ke- \", i)"
   ]
  },
  {
   "cell_type": "code",
   "execution_count": 4,
   "id": "9f161011-0922-4dae-9f5c-fb300d71b019",
   "metadata": {},
   "outputs": [
    {
     "name": "stdout",
     "output_type": "stream",
     "text": [
      "6\n",
      "7\n",
      "8\n",
      "9\n",
      "10\n",
      "bang udah bang\n"
     ]
    }
   ],
   "source": [
    "for i in range(5):\n",
    "    i+=6\n",
    "    print(i)\n",
    "else:\n",
    "    print(\"bang udah bang\")"
   ]
  },
  {
   "cell_type": "code",
   "execution_count": 5,
   "id": "6f040b97-93aa-4c1b-8d15-2099bb3dc3d6",
   "metadata": {},
   "outputs": [
    {
     "name": "stdout",
     "output_type": "stream",
     "text": [
      "I\n",
      " \n",
      "L\n",
      "o\n",
      "v\n",
      "e\n",
      " \n",
      "Y\n",
      "o\n",
      "u\n"
     ]
    }
   ],
   "source": [
    "for i in \"I Love You\":\n",
    "    print(i)"
   ]
  },
  {
   "cell_type": "code",
   "execution_count": 6,
   "id": "8254a024-2f6d-4426-b809-8d0bd27e0587",
   "metadata": {},
   "outputs": [
    {
     "name": "stdout",
     "output_type": "stream",
     "text": [
      "1 * 1 = 1\n",
      "1 * 2 = 2\n",
      "1 * 3 = 3\n",
      "1 * 4 = 4\n",
      "1 * 5 = 5\n",
      "1 * 6 = 6\n",
      "1 * 7 = 7\n",
      "1 * 8 = 8\n",
      "1 * 9 = 9\n",
      "1 * 10 = 10\n",
      "\n",
      "2 * 1 = 2\n",
      "2 * 2 = 4\n",
      "2 * 3 = 6\n",
      "2 * 4 = 8\n",
      "2 * 5 = 10\n",
      "2 * 6 = 12\n",
      "2 * 7 = 14\n",
      "2 * 8 = 16\n",
      "2 * 9 = 18\n",
      "2 * 10 = 20\n",
      "\n",
      "suwun mas\n"
     ]
    }
   ],
   "source": [
    "for i in range(1,3):\n",
    "    for j in range(1,11):\n",
    "        print(i, \"*\", j, \"=\",i*j)\n",
    "    print()\n",
    "print(\"suwun mas\")"
   ]
  },
  {
   "cell_type": "code",
   "execution_count": 7,
   "id": "5492193b-3367-43fc-9b24-5a523c4d1b5d",
   "metadata": {},
   "outputs": [
    {
     "name": "stdout",
     "output_type": "stream",
     "text": [
      "*\n",
      "**\n",
      "***\n",
      "****\n",
      "*****\n",
      "******\n",
      "*******\n",
      "********\n"
     ]
    }
   ],
   "source": [
    "for i in range(1, 8+1):\n",
    "    print('*' * i)"
   ]
  },
  {
   "cell_type": "code",
   "execution_count": 8,
   "id": "26492e56-ee24-4efe-af9e-146c70f9dc4b",
   "metadata": {},
   "outputs": [
    {
     "name": "stdin",
     "output_type": "stream",
     "text": [
      "jumlah baris:  6\n"
     ]
    },
    {
     "name": "stdout",
     "output_type": "stream",
     "text": [
      "1  \n",
      "1 2  \n",
      "1 2 3  \n",
      "1 2 3 4  \n",
      "1 2 3 4 5  \n",
      "1 2 3 4 5 6  \n"
     ]
    }
   ],
   "source": [
    "n = int(input(\"jumlah baris: \"))\n",
    "for i in range(n):\n",
    "    for j in range(i+1):\n",
    "        print(j+1,end=\" \")\n",
    "    print(' ')"
   ]
  },
  {
   "cell_type": "code",
   "execution_count": 9,
   "id": "c8f9bc62-6796-48fa-86aa-3d6809e612dc",
   "metadata": {},
   "outputs": [
    {
     "name": "stdin",
     "output_type": "stream",
     "text": [
      "jumlah data : 3\n",
      "data:  120\n",
      "data:  124\n",
      "data:  123\n"
     ]
    },
    {
     "name": "stdout",
     "output_type": "stream",
     "text": [
      "122.33333333333333\n"
     ]
    }
   ],
   "source": [
    "n = int(input(\"jumlah data :\"))\n",
    "data = [int(input(\"data: \")) for _ in range(n)]\n",
    "\n",
    "jumlah = 0\n",
    "for j in data:\n",
    "    jumlah += j\n",
    "    \n",
    "rata_rata = jumlah /n if n>0 else 0\n",
    "print(rata_rata)"
   ]
  },
  {
   "cell_type": "code",
   "execution_count": 3,
   "id": "cdb946e3-8aea-4040-92e6-ec5ed0da0a2b",
   "metadata": {},
   "outputs": [
    {
     "name": "stdin",
     "output_type": "stream",
     "text": [
      "jumlah data : 4\n",
      "data:  12\n",
      "data:  21\n",
      "data:  4\n",
      "data:  12\n"
     ]
    },
    {
     "name": "stdout",
     "output_type": "stream",
     "text": [
      "Nilai terbesar: 21\n",
      "Nilai terkecil: 4\n",
      "Variansi: 48.25\n"
     ]
    }
   ],
   "source": [
    "n = int(input(\"jumlah data :\"))\n",
    "data = [int(input(\"data: \")) for _ in range(n)]\n",
    "\n",
    "jumlah = 0\n",
    "for j in data:\n",
    "    jumlah += j\n",
    "    \n",
    "rata_rata = jumlah / n \n",
    "variansi = sum((x - rata_rata)**2 for x in data) / (n - 1)\n",
    "print('Nilai terbesar:', max(data))\n",
    "print('Nilai terkecil:', min(data))\n",
    "print('Variansi:', variansi)"
   ]
  },
  {
   "cell_type": "markdown",
   "id": "8b3605b4-cb08-4e3e-9ce0-7f6c365e9f4c",
   "metadata": {
    "jp-MarkdownHeadingCollapsed": true
   },
   "source": [
    "## Minggu 6 - Quiz"
   ]
  },
  {
   "cell_type": "code",
   "execution_count": 14,
   "id": "fab46f80-516b-4c60-b056-312a42876dbc",
   "metadata": {},
   "outputs": [
    {
     "name": "stdout",
     "output_type": "stream",
     "text": [
      "Rata-rata jumlah pengunjung per hari : 30.71\n",
      "Total pengujung selama seminggu : 215\n",
      "Hari dengan pengunjung terbanyak : Sabtu dengan pengunjung 50\n"
     ]
    }
   ],
   "source": [
    "list = [[\"Senin\", 20],[\"Selasa\", 25],[\"Rabu\", 30],[\"Kamis\", 15],[\"Jumat\", 40],[\"Sabtu\", 50],[\"Minggu\", 35]]\n",
    "\n",
    "total_pengunjung = 0\n",
    "hari_terbanyak = \"\" \n",
    "pengunjung_terbanyak = 0\n",
    "\n",
    "for hari, pengunjung in list:\n",
    "    total_pengunjung += pengunjung\n",
    "    if pengunjung > pengunjung_terbanyak:\n",
    "        hari_terbanyak = hari\n",
    "        pengunjung_terbanyak = pengunjung\n",
    "\n",
    "rata_rata = total_pengunjung / len(list)\n",
    "print(f\"Rata-rata jumlah pengunjung per hari : {rata_rata:.2f}\")\n",
    "print(f\"Total pengujung selama seminggu : {total_pengunjung}\")\n",
    "print(f\"Hari dengan pengunjung terbanyak : {hari_terbanyak} dengan pengunjung {pengunjung_terbanyak}\")"
   ]
  },
  {
   "cell_type": "markdown",
   "id": "b1d437cd-8f83-4c39-b59b-2cd742c76034",
   "metadata": {
    "jp-MarkdownHeadingCollapsed": true
   },
   "source": [
    "## Minggu 7 - Percabangan"
   ]
  },
  {
   "cell_type": "code",
   "execution_count": 10,
   "id": "4d15d9bf-8b56-4864-8dc3-18c593e3be9b",
   "metadata": {},
   "outputs": [
    {
     "name": "stdin",
     "output_type": "stream",
     "text": [
      "Masukkan angka : 5\n"
     ]
    },
    {
     "name": "stdout",
     "output_type": "stream",
     "text": [
      "Bilangan tersebut merupakan bilangan ganjil\n"
     ]
    }
   ],
   "source": [
    "angka = int(input(\"Masukkan angka :\"))\n",
    "if angka / 2 == 0:\n",
    "    print(\"Bilangan tersebut merupakan bilangan genap\")\n",
    "elif angka % 2 == 1:\n",
    "    print(\"Bilangan tersebut merupakan bilangan ganjil\")\n",
    "elif angka % 5 == 0:\n",
    "    print(\"Bilangan tersebut merupakan kelipatan 5\")"
   ]
  },
  {
   "cell_type": "code",
   "execution_count": 11,
   "id": "5a24c49d-0227-4a68-bb68-95a27eb3657b",
   "metadata": {},
   "outputs": [
    {
     "name": "stdin",
     "output_type": "stream",
     "text": [
      "masukkan angka a : 4\n",
      "masukkan angka b : 12\n"
     ]
    },
    {
     "name": "stdout",
     "output_type": "stream",
     "text": [
      "B lebih besar dari A\n"
     ]
    }
   ],
   "source": [
    "a = int(input(\"masukkan angka a :\"))\n",
    "b = int(input(\"masukkan angka b :\"))\n",
    "\n",
    "if a > b:\n",
    "    print(\"A lebih besar dari B\")\n",
    "else:\n",
    "    print(\"B lebih besar dari A\")"
   ]
  },
  {
   "cell_type": "code",
   "execution_count": 12,
   "id": "95081a52-d2f9-4e90-9b24-0b7a0f2c8a6b",
   "metadata": {},
   "outputs": [
    {
     "name": "stdin",
     "output_type": "stream",
     "text": [
      "Masukkan nilai siswa: 98\n"
     ]
    },
    {
     "name": "stdout",
     "output_type": "stream",
     "text": [
      "Nilai anda A\n"
     ]
    }
   ],
   "source": [
    "nilai = int(input(\"Masukkan nilai siswa:\"))\n",
    "\n",
    "if nilai >= 90:\n",
    "    print(\"Nilai anda A\")\n",
    "elif nilai >= 80:\n",
    "    print(\"Nilai anda B+\")\n",
    "elif nilai >= 70:\n",
    "    print(\"Nilai anda B\")\n",
    "elif nilai >= 60:\n",
    "    print(\"Nilai anda C+\")\n",
    "elif nilai >= 50:\n",
    "    print(\"Nilai anda C\")\n",
    "elif nilai >= 40:\n",
    "    print(\"Nilai anda D\")\n",
    "else :\n",
    "    print(\"Nilai anda E\")"
   ]
  },
  {
   "cell_type": "code",
   "execution_count": 13,
   "id": "cc12c49f-c357-4345-8290-ab3d4069afd0",
   "metadata": {},
   "outputs": [
    {
     "name": "stdin",
     "output_type": "stream",
     "text": [
      "Berapa usiamu? :  12\n",
      "Berapa tinggimu? :  140\n",
      "Apakah anda member? :  tidak\n",
      "Total Pembelian :  5600000\n"
     ]
    },
    {
     "name": "stdout",
     "output_type": "stream",
     "text": [
      "Selamat anda bisa menikmati wahana ini dan mendapatkan diskon\n"
     ]
    }
   ],
   "source": [
    "usia = int(input(\"Berapa usiamu? : \"))\n",
    "tinggi = int(input(\"Berapa tinggimu? : \"))\n",
    "\n",
    "if usia >= 10 and tinggi >= 110:\n",
    "    member = bool(input(\"Apakah anda member? : \"))\n",
    "    pembelian = int(input(\"Total Pembelian : \"))\n",
    "    if member == True or pembelian > 500000:\n",
    "        print(\"Selamat anda bisa menikmati wahana ini dan mendapatkan diskon\")\n",
    "else:\n",
    "    print(\"aduh sayang sekali, anda belum bisa menikmati wahana ini\")"
   ]
  },
  {
   "cell_type": "code",
   "execution_count": 14,
   "id": "d2d3958d-5fec-4cb7-a59b-88b2321a36da",
   "metadata": {},
   "outputs": [
    {
     "name": "stdin",
     "output_type": "stream",
     "text": [
      "Masukkan nilai siswa :  89\n",
      "Kehadiran siswa dalam 1 semester : 18\n"
     ]
    },
    {
     "name": "stdout",
     "output_type": "stream",
     "text": [
      "Predikat anda Sangat memuaskan, dengan persentase kehadiran 112.5% dan Nilai anda 89\n"
     ]
    }
   ],
   "source": [
    "nilai = int(input(\"Masukkan nilai siswa : \"))\n",
    "jumlah_pertemuan = 16\n",
    "kehadiran = int(input(\"Kehadiran siswa dalam 1 semester :\"))\n",
    "hitung = (kehadiran / jumlah_pertemuan) * 100\n",
    "\n",
    "if nilai >= 80:\n",
    "    if hitung >= 90:\n",
    "        print(f\"Predikat anda Sangat memuaskan, dengan persentase kehadiran {hitung}% dan Nilai anda {nilai}\")\n",
    "    elif hitung >= 75 and hitung <= 90:\n",
    "        print(f\"Predikat anda Memuaskan, dengan persentase kehadiran {hitung}% dan Nilai anda {nilai}\")\n",
    "    else :\n",
    "        print(f\"Predikat anda Cukup, dengan persentase kehadiran {hitung}% dan Nilai anda {nilai}\")\n",
    "elif nilai >= 60 and nilai <80:\n",
    "    if hitung > 75:\n",
    "        print(f\"Predikat anda Cukup, dengan persentase kehadiran {hitung}% dan Nilai anda {nilai}\")\n",
    "    elif hitung <= 75:\n",
    "        print(f\"Sepertinya anda Perlu Perbaikan, dengan persentase kehadiran {hitung}% dan Nilai anda {nilai}\")\n",
    "else :\n",
    "    print(\"Maaf Anda Tidak Lulus\")"
   ]
  },
  {
   "cell_type": "code",
   "execution_count": 15,
   "id": "44d082ec-9b3f-4a2b-8347-19c8d07f61b0",
   "metadata": {},
   "outputs": [
    {
     "name": "stdout",
     "output_type": "stream",
     "text": [
      "1 2 3 4  \n",
      "5 6 7 8  \n",
      "9 10 11 12  \n",
      "13 14 15 16  \n",
      "17 18 19 20  \n"
     ]
    }
   ],
   "source": [
    "angka = 1\n",
    "for i in range(5):\n",
    "    for j in range(4):\n",
    "        print(angka, end=\" \")\n",
    "        angka = angka + 1\n",
    "    print(' ')"
   ]
  },
  {
   "cell_type": "markdown",
   "id": "2792d946-b1c8-408b-a58c-092b8db0693c",
   "metadata": {},
   "source": [
    "## Minggu 8 - UTS & Minggu 9 - Membahas Soal UTS"
   ]
  },
  {
   "cell_type": "code",
   "execution_count": 4,
   "id": "f05b861e-b262-4d23-8225-1e6368afe6da",
   "metadata": {},
   "outputs": [
    {
     "name": "stdout",
     "output_type": "stream",
     "text": [
      "Total uang saku yang diberikan kepada semua anak Keluarga Wijaya dalam satu minggu adalah: $115\n"
     ]
    }
   ],
   "source": [
    "usia_anak = [8,12,9,16,14,16,4,10]\n",
    "total_uang_saku = 0\n",
    "for i in usia_anak :\n",
    "    if i <10 :\n",
    "        uang_saku = 10\n",
    "    elif 10<= i <=15:\n",
    "        uang_saku = 15\n",
    "    else:\n",
    "        uang_saku = 20\n",
    "    total_uang_saku += uang_saku\n",
    "    \n",
    "print(f\"Total uang saku yang diberikan kepada semua anak Keluarga Wijaya dalam satu minggu adalah: ${total_uang_saku}\")"
   ]
  },
  {
   "cell_type": "code",
   "execution_count": 5,
   "id": "205c9233-613f-4f0f-b5a7-5b972716195a",
   "metadata": {},
   "outputs": [
    {
     "name": "stdout",
     "output_type": "stream",
     "text": [
      "Siswa 1: Predikat \"Sangat Baik\"\n",
      "Siswa 2: Predikat \"Baik\"\n",
      "Siswa 3: Predikat \"Kurang\"\n",
      "Siswa 4: Predikat \"Cukup\"\n",
      "Siswa 5: Predikat \"Sangat Baik\"\n",
      "Siswa 6: Predikat \"Baik\"\n",
      "Siswa 7: Predikat \"Kurang\"\n",
      "Siswa 8: Predikat \"Cukup\"\n",
      "Siswa 9: Predikat \"Sangat Baik\"\n",
      "Siswa 10: Predikat \"Sangat Baik\"\n"
     ]
    }
   ],
   "source": [
    "nilai_siswa = [85,76,54,62,90,73,45,69,88,80]\n",
    "siswa_ke = 0\n",
    "\n",
    "for n in nilai_siswa:\n",
    "    siswa_ke += 1\n",
    "    if n >= 80:\n",
    "        print(f'Siswa {siswa_ke}: Predikat \"Sangat Baik\"')\n",
    "    elif n >= 70 and n <80:\n",
    "        print(f'Siswa {siswa_ke}: Predikat \"Baik\"')\n",
    "    elif n >= 60 and n <70:\n",
    "        print(f'Siswa {siswa_ke}: Predikat \"Cukup\"')\n",
    "    else:\n",
    "        print(f'Siswa {siswa_ke}: Predikat \"Kurang\"')"
   ]
  },
  {
   "cell_type": "markdown",
   "id": "9e93d26f-45ea-4641-8fd0-e33344ece7ab",
   "metadata": {},
   "source": [
    "## Minggu 10 - Membuat Soal Mandiri"
   ]
  },
  {
   "cell_type": "code",
   "execution_count": 15,
   "id": "3af7a91d-92d5-4938-9bc8-fd5944120e33",
   "metadata": {},
   "outputs": [
    {
     "name": "stdout",
     "output_type": "stream",
     "text": [
      "Total apel pada tahun 2021: 680 buah\n",
      "Total apel pada tahun 2022: 730 buah\n",
      "Total apel pada tahun 2023: 780 buah\n",
      "Total apel pada 3 tahun: 2190 buah\n",
      "Rata-rata hasil panen per pohon: 146.0 buah\n"
     ]
    }
   ],
   "source": [
    "hasil_panen = [\n",
    "    [120, 150, 180, 100, 130], \n",
    "    [130, 160, 190, 110, 140],\n",
    "    [140, 170, 200, 120, 150]\n",
    "]\n",
    "\n",
    "tahun_terbaik = 0\n",
    "total_tahun = 0\n",
    "total_semua = 0\n",
    "tahun = 2020\n",
    "rata_rata = 0\n",
    "jumlah_tahun = len(hasil_panen)\n",
    "jumlah_pohon = 5\n",
    "\n",
    "for th in hasil_panen:\n",
    "    tahun += 1\n",
    "    total = sum(th)\n",
    "    total_semua += total\n",
    "    print(f\"Total apel pada tahun {tahun}: {total} buah\")\n",
    "\n",
    "rata_rata = total_semua / (jumlah_tahun * jumlah_pohon)\n",
    "print(f\"Total apel pada 3 tahun: {total_semua} buah\")\n",
    "print(f\"Rata-rata hasil panen per pohon: {rata_rata} buah\")"
   ]
  },
  {
   "cell_type": "code",
   "execution_count": 16,
   "id": "3e91add7-4aa2-40a1-bfe9-c3f4eea26a81",
   "metadata": {},
   "outputs": [
    {
     "name": "stdin",
     "output_type": "stream",
     "text": [
      "Masukkan Total Belanja:  12321\n"
     ]
    },
    {
     "name": "stdout",
     "output_type": "stream",
     "text": [
      "total sebelum diskon Rp 12321\n",
      "Jumlah yang harus dibayar: Rp 12321\n"
     ]
    }
   ],
   "source": [
    "total_belanja = int(input(\"Masukkan Total Belanja: \"))\n",
    "total_setelah_diskon = 0\n",
    "\n",
    "if total_belanja > 200000:\n",
    "    diskon = 0.15\n",
    "elif total_belanja >= 100000:\n",
    "    diskon = 0.10\n",
    "else:\n",
    "    diskon = 0\n",
    "\n",
    "total_setelah_diskon = total_belanja - (total_belanja * diskon)\n",
    "print(f\"total sebelum diskon Rp {total_belanja}\")\n",
    "print(\"Jumlah yang harus dibayar: Rp\", total_setelah_diskon)"
   ]
  },
  {
   "cell_type": "code",
   "execution_count": null,
   "id": "ecc2bdd9-1149-4758-983f-62ac1743ba8c",
   "metadata": {},
   "outputs": [],
   "source": []
  }
 ],
 "metadata": {
  "kernelspec": {
   "display_name": "Python 3 (ipykernel)",
   "language": "python",
   "name": "python3"
  },
  "language_info": {
   "codemirror_mode": {
    "name": "ipython",
    "version": 3
   },
   "file_extension": ".py",
   "mimetype": "text/x-python",
   "name": "python",
   "nbconvert_exporter": "python",
   "pygments_lexer": "ipython3",
   "version": "3.12.4"
  }
 },
 "nbformat": 4,
 "nbformat_minor": 5
}
